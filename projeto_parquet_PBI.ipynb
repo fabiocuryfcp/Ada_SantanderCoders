{
 "cells": [
  {
   "cell_type": "markdown",
   "metadata": {},
   "source": [
    "## Projeto ADA módulo de Extração de dados\n",
    "## ETL para Powerbi \n",
    "https://app.powerbi.com/view?r=eyJrIjoiMmZhNWE0ZDMtZTdmZi00ZGU4LTkzZTQtMGZjOGIyNzMxMzg2IiwidCI6ImUwNzhhODdiLTk5OTQtNGQyZS05OWE2LWYwYzg1ZjU4MjJlMiJ9\n"
   ]
  },
  {
   "cell_type": "code",
   "execution_count": 2,
   "metadata": {},
   "outputs": [],
   "source": [
    "\n",
    "import warnings\n",
    "warnings.filterwarnings(\"ignore\")\n",
    "\n",
    "import requests\n",
    "\n",
    "import pandas as pd\n",
    "import numpy as np\n",
    "\n",
    "## Funções \n",
    "def obter_prduto():\n",
    "    url = f\"https://fakestoreapi.com/products/\"\n",
    "    response = requests.get(url)\n",
    "\n",
    "    if response.status_code == 200:\n",
    "        dados = response.json()\n",
    "        return dados\n",
    "    else:\n",
    "        print(f\"Erro: {response.status_code}\")\n",
    "        return None\n",
    "\n",
    "## Adicionar\n",
    "def obter_carrinhos():\n",
    "    url = f\"https://fakestoreapi.com/carts/\"\n",
    "    response = requests.get(url)\n",
    "\n",
    "    if response.status_code == 200:\n",
    "        dados = response.json()\n",
    "        return dados\n",
    "    else:\n",
    "        print(f\"Erro: {response.status_code}\")\n",
    "        return None\n"
   ]
  },
  {
   "cell_type": "markdown",
   "metadata": {},
   "source": [
    "# Produtos"
   ]
  },
  {
   "cell_type": "code",
   "execution_count": 3,
   "metadata": {},
   "outputs": [],
   "source": [
    "## Extract\n",
    "## Obter os dados via api\n",
    "\n",
    "registros = 20\n",
    "df_fim = pd.DataFrame()\n",
    "for i in range(registros):\n",
    "    # print (i)\n",
    "    # chamada api\n",
    "    resultado = obter_prduto()\n",
    "    df=pd.DataFrame(resultado)\n",
    "    #Expandir a coluna 'rating' em duas colunas # TRansform\n",
    "    df[['rate', 'count']] = df['rating'].apply(pd.Series)\n",
    "    # Remover a coluna original \n",
    "    df.drop(columns='rating', inplace=True)\n",
    "    df_fim = df_fim.append(df)\n",
    "    del df\n",
    "# df_fim.head(2)"
   ]
  },
  {
   "cell_type": "code",
   "execution_count": 4,
   "metadata": {},
   "outputs": [
    {
     "data": {
      "text/html": [
       "<div>\n",
       "<style scoped>\n",
       "    .dataframe tbody tr th:only-of-type {\n",
       "        vertical-align: middle;\n",
       "    }\n",
       "\n",
       "    .dataframe tbody tr th {\n",
       "        vertical-align: top;\n",
       "    }\n",
       "\n",
       "    .dataframe thead th {\n",
       "        text-align: right;\n",
       "    }\n",
       "</style>\n",
       "<table border=\"1\" class=\"dataframe\">\n",
       "  <thead>\n",
       "    <tr style=\"text-align: right;\">\n",
       "      <th></th>\n",
       "      <th>productId</th>\n",
       "      <th>title</th>\n",
       "      <th>price</th>\n",
       "      <th>description</th>\n",
       "      <th>category</th>\n",
       "      <th>image</th>\n",
       "      <th>rate</th>\n",
       "      <th>count</th>\n",
       "      <th>vendidos</th>\n",
       "      <th>total_faturado</th>\n",
       "      <th>faturado_total(%)_base</th>\n",
       "      <th>rate_peso</th>\n",
       "      <th>ranking_avaliação_base</th>\n",
       "      <th>loja</th>\n",
       "      <th>fator_mult_loja</th>\n",
       "      <th>latitudes</th>\n",
       "      <th>longitudes</th>\n",
       "      <th>Data</th>\n",
       "    </tr>\n",
       "  </thead>\n",
       "  <tbody>\n",
       "    <tr>\n",
       "      <th>0</th>\n",
       "      <td>1</td>\n",
       "      <td>Fjallraven - Foldsack No. 1 Backpack, Fits 15 ...</td>\n",
       "      <td>109.95</td>\n",
       "      <td>Your perfect pack for everyday use and walks i...</td>\n",
       "      <td>men's clothing</td>\n",
       "      <td>https://fakestoreapi.com/img/81fPKd-2AYL._AC_S...</td>\n",
       "      <td>2.6</td>\n",
       "      <td>4.1</td>\n",
       "      <td>627.98837</td>\n",
       "      <td>69047.321229</td>\n",
       "      <td>0.044450</td>\n",
       "      <td>10.66</td>\n",
       "      <td>0.007658</td>\n",
       "      <td>Loja 3</td>\n",
       "      <td>0.9</td>\n",
       "      <td>-1.117365</td>\n",
       "      <td>151.824837</td>\n",
       "      <td>2023/09/15</td>\n",
       "    </tr>\n",
       "    <tr>\n",
       "      <th>1</th>\n",
       "      <td>2</td>\n",
       "      <td>Mens Casual Premium Slim Fit T-Shirts</td>\n",
       "      <td>22.30</td>\n",
       "      <td>Slim-fitting style, contrast raglan long sleev...</td>\n",
       "      <td>men's clothing</td>\n",
       "      <td>https://fakestoreapi.com/img/71-3HjGNDUL._AC_S...</td>\n",
       "      <td>4.1</td>\n",
       "      <td>2.9</td>\n",
       "      <td>2781.93080</td>\n",
       "      <td>62037.056843</td>\n",
       "      <td>0.039937</td>\n",
       "      <td>11.89</td>\n",
       "      <td>0.008542</td>\n",
       "      <td>Loja 1</td>\n",
       "      <td>1.3</td>\n",
       "      <td>-87.917809</td>\n",
       "      <td>-98.819914</td>\n",
       "      <td>2023/09/30</td>\n",
       "    </tr>\n",
       "  </tbody>\n",
       "</table>\n",
       "</div>"
      ],
      "text/plain": [
       "   productId                                              title   price  \\\n",
       "0          1  Fjallraven - Foldsack No. 1 Backpack, Fits 15 ...  109.95   \n",
       "1          2             Mens Casual Premium Slim Fit T-Shirts    22.30   \n",
       "\n",
       "                                         description        category  \\\n",
       "0  Your perfect pack for everyday use and walks i...  men's clothing   \n",
       "1  Slim-fitting style, contrast raglan long sleev...  men's clothing   \n",
       "\n",
       "                                               image  rate  count    vendidos  \\\n",
       "0  https://fakestoreapi.com/img/81fPKd-2AYL._AC_S...   2.6    4.1   627.98837   \n",
       "1  https://fakestoreapi.com/img/71-3HjGNDUL._AC_S...   4.1    2.9  2781.93080   \n",
       "\n",
       "   total_faturado  faturado_total(%)_base  rate_peso  ranking_avaliação_base  \\\n",
       "0    69047.321229                0.044450      10.66                0.007658   \n",
       "1    62037.056843                0.039937      11.89                0.008542   \n",
       "\n",
       "     loja  fator_mult_loja  latitudes  longitudes        Data  \n",
       "0  Loja 3              0.9  -1.117365  151.824837  2023/09/15  \n",
       "1  Loja 1              1.3 -87.917809  -98.819914  2023/09/30  "
      ]
     },
     "execution_count": 4,
     "metadata": {},
     "output_type": "execute_result"
    }
   ],
   "source": [
    "#transform\n",
    "#Criando colunas\n",
    "df_fim['rate'] = df_fim['rate'].sample(frac=1).reset_index(drop=True)\n",
    "df_fim['count'] = df_fim['rate'].sample(frac=1).reset_index(drop=True)\n",
    "\n",
    "df_fim['vendidos']   = [np.random.uniform(0, 5000) for _ in range(df_fim.shape[0])]\n",
    "df_fim['total_faturado'] = df_fim['vendidos']  * df_fim['price']\n",
    "df_fim['faturado_total(%)_base'] =(df_fim['total_faturado'] / df_fim['total_faturado'].sum())*100\n",
    "\n",
    "df_fim['rate_peso'] = (df_fim['rate']  * df_fim['count'])\n",
    "df_fim['ranking_avaliação_base'] = (df_fim['rate']  * df_fim['count']) / df_fim['count'].sum()\n",
    "\n",
    "\n",
    "df_fim['loja'] = np.random.choice(['Loja 1', 'Loja 2', 'Loja 3'], size = df_fim.shape[0])\n",
    "# Usando numpy.select para atribuir valores\n",
    "df_fim['fator_mult_loja'] = np.select([df_fim['loja'] == 'Loja 1',\n",
    "                                       df_fim['loja'] == 'Loja 2',\n",
    "                                       df_fim['loja'] == 'Loja 3'], \n",
    "                                       [1.3, 0.95, 0.9], default=np.nan)\n",
    "\n",
    "df_fim['latitudes']  = [np.random.uniform(-90, 90) for _ in range(df_fim.shape[0])]\n",
    "df_fim['longitudes']   = [np.random.uniform(-180, 180) for _ in range(df_fim.shape[0])]\n",
    "\n",
    "df_fim['Data'] = pd.to_datetime(np.random.choice(pd.date_range(\"2023-09-01\", '2023-09-30'), size=df_fim.shape[0]))\n",
    "df_fim['Data'] = pd.to_datetime(df_fim['Data']).dt.strftime('%Y/%m/%d')\n",
    "\n",
    "df_fim.rename(columns={'id': 'productId'}, inplace=True)\n",
    "df_fim.head(2)\n"
   ]
  },
  {
   "cell_type": "markdown",
   "metadata": {},
   "source": [
    "# Carrinhos"
   ]
  },
  {
   "cell_type": "code",
   "execution_count": 5,
   "metadata": {},
   "outputs": [],
   "source": [
    "#Extract\n",
    "### Obter carrinhos\n",
    "carrinhos = obter_carrinhos()\n",
    "carrinhos = pd.DataFrame(carrinhos)\n"
   ]
  },
  {
   "cell_type": "code",
   "execution_count": 6,
   "metadata": {},
   "outputs": [],
   "source": [
    "#transform\n",
    "# transformando a base em uma base de produtos no carrinho\n",
    "\n",
    "# Expandir\n",
    "carrinhos = carrinhos.explode('products')\n",
    "#juntar as infos\n",
    "carrinhos = pd.concat([carrinhos,carrinhos['products'].apply(pd.Series)],axis=1).drop(['products','__v'], axis= 1)\n",
    "\n",
    "## corrigir data\n",
    "carrinhos['Data'] = pd.to_datetime(carrinhos['date'])\n",
    "carrinhos['Data'] = carrinhos['Data'].apply(lambda x: x.replace(year=2023))\n",
    "carrinhos['Data'] = carrinhos['Data'].apply(lambda x: x.replace(month=9) if x.month == 3 else x)\n",
    "carrinhos['Data'] = pd.to_datetime(carrinhos['date']).dt.strftime('%Y/%m/%d')\n",
    "\n",
    "\n",
    "carrinhos.drop(columns = 'date', inplace=True)\n",
    "\n",
    "# Criar info de loja no df de carrinhos\n",
    "carrinhos['loja'] = np.random.choice(['Loja 1', 'Loja 2', 'Loja 3'], size = carrinhos.shape[0])\n",
    "\n",
    "# corrigir nomes\n",
    "carrinhos = carrinhos.rename(columns={'id': 'id_carrinho'})\n"
   ]
  },
  {
   "cell_type": "code",
   "execution_count": 13,
   "metadata": {},
   "outputs": [],
   "source": [
    "#Load  (salvando os dados combinados em parquet)\n",
    "pronto_load = pd.merge(df_fim,carrinhos, on = ['productId','loja','Data'] , how = 'left')\n",
    "pronto_load.to_parquet(\"Dados_projetoETL.parquet\", compression='snappy')\n"
   ]
  },
  {
   "cell_type": "code",
   "execution_count": 10,
   "metadata": {},
   "outputs": [
    {
     "name": "stdout",
     "output_type": "stream",
     "text": [
      "Performing device flow authentication. Please follow the instructions below.\n",
      "To sign in, use a web browser to open the page https://microsoft.com/devicelogin and enter the code B8DV5DNT5 to authenticate.\n",
      "\n",
      "Device flow authentication successfully completed.\n",
      "You are now logged in .\n",
      "\n",
      "The result should be passed only to trusted code in your notebook.\n"
     ]
    },
    {
     "data": {
      "application/vnd.jupyter.widget-view+json": {
       "model_id": "b0115fec07904e24b07bd1fda20e0907",
       "version_major": 2,
       "version_minor": 0
      },
      "text/plain": [
       "QuickVisualize()"
      ]
     },
     "execution_count": 10,
     "metadata": {},
     "output_type": "execute_result"
    }
   ],
   "source": [
    "# #Gerar arquivo do PBI \n",
    "# from powerbiclient import QuickVisualize, get_dataset_config, Report\n",
    "# from powerbiclient.authentication import DeviceCodeLoginAuthentication\n",
    "\n",
    "# # Initiate device flow authentication\n",
    "# auth_device= DeviceCodeLoginAuthentication()\n",
    "\n",
    "# # Create a Power BI report from your data\n",
    "# PBI_visualize = QuickVisualize(get_dataset_config(pronto_load.fillna(0)), auth=auth_device)\n",
    "\n",
    "# # Render the new report\n",
    "# PBI_visualize"
   ]
  }
 ],
 "metadata": {
  "kernelspec": {
   "display_name": "envpowerbi",
   "language": "python",
   "name": "python3"
  },
  "language_info": {
   "codemirror_mode": {
    "name": "ipython",
    "version": 3
   },
   "file_extension": ".py",
   "mimetype": "text/x-python",
   "name": "python",
   "nbconvert_exporter": "python",
   "pygments_lexer": "ipython3",
   "version": "3.8.16"
  }
 },
 "nbformat": 4,
 "nbformat_minor": 2
}
