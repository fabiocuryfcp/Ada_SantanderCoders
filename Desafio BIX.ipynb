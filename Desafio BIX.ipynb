{
 "cells": [
  {
   "cell_type": "markdown",
   "id": "1c8d693c",
   "metadata": {},
   "source": [
    "###Challenge Activities\n",
    "\n",
    "1. What steps would you take to solve this problem? Please describe as completely and clearly as possible all the steps that you see as essential for solving the problem.\n",
    "* EDA, Trying to figure out a reference for the values, understanding main columns/factors to a possible failure, creating labels for the situations described, predicting those labels in the dataframe, understanding expected costs x saved costs.\n",
    "\n",
    "2. Which technical data science metric would you use to solve this challenge? Ex: absolute error, rmse, etc. \n",
    "* f-1 score\n",
    "\n",
    "3. Which business metric  would you use to solve the challenge?\n",
    "* saved costs, total cost\n",
    "\n",
    "4. How do technical metrics relate to the business metrics?\n",
    "* Business metrics are the metrics we bring to the table/dashboard, technical metrics are used to make decisions about the model itself\n",
    "\n",
    "5. What types of analyzes would you like to perform on the customer database?\n",
    "* Understand main scores for defects, correlate main factors and try to understand the right moment to send vehicles to repair service and how much can we save optimizing with the clusters\n",
    "\n",
    "6. What techniques would you use to reduce the dimensionality of the problem? \n",
    "*How much a colum Represents in information%, Correlation, P-value, if necessary a score\n",
    "\n",
    "7. What techniques would you use to select variables for your predictive model?\n",
    "*How much a colum Represents in information%, Correlation, P-value, if necessary a score\n",
    "\n",
    "8. What predictive models would you use or test for this problem? Please indicate at least 3.\n",
    "* Random Forest, Decision Tree, Logistic Regression, Clustering\n",
    "\n",
    "9. How would you rate which of the trained models is the best?\n",
    "* Understanding the data, the expected output and the performance metrics\n",
    "\n",
    "10. How would you explain the result of your model? Is it possible to know which variables are most important?\n",
    "*I can get the information of wich features are more important for the model as in the last cell, through \"model.feature_importances_\"\n",
    "\n",
    "11.How would you assess the financial impact of the proposed model?\n",
    "* Just did it ath the end of the code :# Saved money on no_defsent and def_notsent \n",
    "\n",
    "12.What techniques would you use to perform the hyperparameter optimization of the chosen model?\n",
    "* probability, depth, features, assign weight to variables\n",
    "\n",
    "13. What risks or precautions would you present to the customer before putting this model into production?\n",
    "* Explaining it´s a model and may not be exact because there are other things that may impact. I´d bring up the theme that the columns are coded so all the desisions were purelly logical and mathemaical with no input of from business, which approaches the model of the real world\n",
    "\n",
    "14. If your predictive model is approved, how would you put it into production?\n",
    "* save the trained model and apply it to the dataset, or deploy the model to a data visualization service. I think it would be necessary to understand the needs, structure and opportunities of the business to deploy it.\n",
    "\n",
    "15. If the model is in production, how would you monitor it?\n",
    "* Through savings, if there´s a real impact and through the technical metrics\n",
    "\n",
    "16. If the model is in production, how would you know when to retrain it?\n",
    "* Everytime f1-score does not reach the desired value, if we have newer features that could be correlated to issues, or yearly(due to the dataset granularity).\n"
   ]
  },
  {
   "cell_type": "code",
   "execution_count": 1,
   "id": "2443a844",
   "metadata": {},
   "outputs": [],
   "source": [
    "import pandas as pd\n",
    "import numpy as np\n",
    "np.random.seed(42)\n",
    "\n",
    "import warnings\n",
    "warnings.filterwarnings('ignore')\n",
    "\n",
    "import matplotlib.pyplot as plt\n",
    "import seaborn as sns"
   ]
  },
  {
   "cell_type": "markdown",
   "id": "74591508",
   "metadata": {},
   "source": [
    "#Dados podem ser baixados em: https://drive.google.com/drive/folders/1KZX9AQQA1j8Ew0wRE9P_Qzwsd9_e5RNp"
   ]
  },
  {
   "cell_type": "code",
   "execution_count": 2,
   "id": "313eaf8e",
   "metadata": {
    "scrolled": false
   },
   "outputs": [
    {
     "name": "stdout",
     "output_type": "stream",
     "text": [
      "Previous Years Data Shape: (60000, 171)\n",
      "Present Year Data Shape: (16000, 171)\n",
      "Colunas idênticas?: [ True  True  True  True  True  True  True  True  True  True  True  True\n",
      "  True  True  True  True  True  True  True  True  True  True  True  True\n",
      "  True  True  True  True  True  True  True  True  True  True  True  True\n",
      "  True  True  True  True  True  True  True  True  True  True  True  True\n",
      "  True  True  True  True  True  True  True  True  True  True  True  True\n",
      "  True  True  True  True  True  True  True  True  True  True  True  True\n",
      "  True  True  True  True  True  True  True  True  True  True  True  True\n",
      "  True  True  True  True  True  True  True  True  True  True  True  True\n",
      "  True  True  True  True  True  True  True  True  True  True  True  True\n",
      "  True  True  True  True  True  True  True  True  True  True  True  True\n",
      "  True  True  True  True  True  True  True  True  True  True  True  True\n",
      "  True  True  True  True  True  True  True  True  True  True  True  True\n",
      "  True  True  True  True  True  True  True  True  True  True  True  True\n",
      "  True  True  True  True  True  True  True  True  True  True  True  True\n",
      "  True  True  True]\n"
     ]
    }
   ],
   "source": [
    "# Load the datasets \n",
    "previous_years_data = pd.read_csv('air_system_previous_years.csv')\n",
    "present_year_data = pd.read_csv('air_system_present_year.csv')\n",
    "\n",
    "# estrutura?\n",
    "print(\"Previous Years Data Shape:\", previous_years_data.shape)\n",
    "print(\"Present Year Data Shape:\", present_year_data.shape)\n",
    "print(\"Colunas idênticas?:\", (previous_years_data.columns) == (present_year_data.columns))"
   ]
  },
  {
   "cell_type": "code",
   "execution_count": 3,
   "id": "2676089f",
   "metadata": {},
   "outputs": [],
   "source": [
    "## Tratamento em ambos:\n",
    "for datasets in [previous_years_data,present_year_data]:\n",
    "    datasets.replace(\"na\", np.nan, inplace=True)\n",
    "    datasets['class'] = previous_years_data['class'].replace({\"neg\": 0, \"pos\": 1})\n",
    "    for col in datasets.columns:\n",
    "        datasets[col] = pd.to_numeric(datasets[col],errors = 'coerce')\n",
    "#         datasets[col] =datasets[col].fillna(datasets[col].median())\n",
    "    datasets['soma'] = datasets.sum(axis=1) - datasets['class']"
   ]
  },
  {
   "cell_type": "markdown",
   "id": "070ccb56",
   "metadata": {},
   "source": [
    "### Data understanding/feat"
   ]
  },
  {
   "cell_type": "code",
   "execution_count": 4,
   "id": "457538f4",
   "metadata": {},
   "outputs": [],
   "source": [
    "# Checando representatividade dos dados"
   ]
  },
  {
   "cell_type": "code",
   "execution_count": 5,
   "id": "501a11a5",
   "metadata": {},
   "outputs": [],
   "source": [
    "cols = []\n",
    "values = [] \n",
    "soma_total = previous_years_data['soma'].sum()\n",
    "\n",
    "for col in previous_years_data.drop('soma',axis=1).columns:\n",
    "#     print(col)\n",
    "    cols.append(col)\n",
    "    percentual = round((previous_years_data[col].sum() /soma_total) *100 , 2)\n",
    "    values.append(percentual)\n",
    "#     print(percentual, \"\\n\")\n",
    "\n",
    "explor = pd.DataFrame({\"coluna\": cols, \"percentual\": values})"
   ]
  },
  {
   "cell_type": "code",
   "execution_count": 6,
   "id": "67969dd7",
   "metadata": {
    "scrolled": false
   },
   "outputs": [
    {
     "name": "stdout",
     "output_type": "stream",
     "text": [
      "> 99% = True\n",
      "% do total de valores na tabela = 99.07000000000001\n",
      "Total de colunas: 60\n"
     ]
    },
    {
     "data": {
      "text/plain": [
       "<AxesSubplot:xlabel='coluna'>"
      ]
     },
     "execution_count": 6,
     "metadata": {},
     "output_type": "execute_result"
    },
    {
     "data": {
      "image/png": "[encoded data removed]",
      "text/plain": [
       "<Figure size 432x288 with 1 Axes>"
      ]
     },
     "metadata": {
      "needs_background": "light"
     },
     "output_type": "display_data"
    }
   ],
   "source": [
    "rep_percent_min_col = 0.05\n",
    "\n",
    "perc_valores = explor[explor.percentual>=rep_percent_min_col].sort_values(ascending=False, by = \"percentual\")\n",
    "\n",
    "print('> 99% =', perc_valores.percentual.sum()>99)\n",
    "print('% do total de valores na tabela =', perc_valores.percentual.sum())\n",
    "print('Total de colunas:' ,len(perc_valores.coluna))\n",
    "perc_valores.set_index('coluna').plot()"
   ]
  },
  {
   "cell_type": "code",
   "execution_count": 7,
   "id": "02ac56dc",
   "metadata": {},
   "outputs": [
    {
     "name": "stdout",
     "output_type": "stream",
     "text": [
      "total de colunas 86\n"
     ]
    }
   ],
   "source": [
    "# Calculate correlation with 'class' column\n",
    "correlation = previous_years_data.corrwith(previous_years_data['class'])\n",
    "\n",
    "#forte 0.7, moderada 0.5, não desprezível 0.3\n",
    "corte_corr = 0.3\n",
    "corr = correlation[(correlation > corte_corr) |(correlation < -corte_corr)]\n",
    "\n",
    "# Get the names of columns with strong correlation\n",
    "cols = corr.index.tolist()\n",
    "cols = list(set(cols + ['soma'] + list(perc_valores.coluna)))\n",
    "#colunas \n",
    "print(f'total de colunas {len(cols)}')\n",
    "\n",
    "#selecionado colunas que fazem sentido pela correlação e pela representatividade dos dados\n",
    "previous_years_data = previous_years_data[cols]\n",
    "present_year_data = present_year_data[cols]"
   ]
  },
  {
   "cell_type": "code",
   "execution_count": 8,
   "id": "e3ac1353",
   "metadata": {},
   "outputs": [],
   "source": [
    "# clusters"
   ]
  },
  {
   "cell_type": "code",
   "execution_count": 9,
   "id": "66ff4510",
   "metadata": {},
   "outputs": [],
   "source": [
    "## input das medianas nos NaNs:\n",
    "for datasets in [previous_years_data,present_year_data]:\n",
    "    for col in datasets.columns:\n",
    "        datasets[col] =datasets[col].fillna(datasets[col].median())"
   ]
  },
  {
   "cell_type": "code",
   "execution_count": 10,
   "id": "f5115862",
   "metadata": {},
   "outputs": [],
   "source": [
    "from sklearn.cluster import KMeans\n",
    "\n",
    "# Aplicar KMeans para clustering inicial\n",
    "kmeans = KMeans(n_clusters=4, random_state=42)\n",
    "\n",
    "# Adicionar os clusters ao DataFrame\n",
    "clusters = kmeans.fit_predict(previous_years_data)\n",
    "previous_years_data['initial_cluster'] = clusters\n",
    "\n",
    "clusters1 = kmeans.fit_predict(present_year_data)\n",
    "present_year_data['initial_cluster'] = clusters1"
   ]
  },
  {
   "cell_type": "code",
   "execution_count": 11,
   "id": "ec1d77c7",
   "metadata": {},
   "outputs": [],
   "source": [
    "# Checagem e identificação dos rótulos dos clusters"
   ]
  },
  {
   "cell_type": "code",
   "execution_count": 12,
   "id": "f7bad744",
   "metadata": {
    "scrolled": true
   },
   "outputs": [
    {
     "data": {
      "image/png": "[encoded data removed]",
      "text/plain": [
       "<Figure size 432x288 with 1 Axes>"
      ]
     },
     "metadata": {
      "needs_background": "light"
     },
     "output_type": "display_data"
    },
    {
     "data": {
      "image/png": "[encoded data removed]",
      "text/plain": [
       "<Figure size 432x288 with 1 Axes>"
      ]
     },
     "metadata": {
      "needs_background": "light"
     },
     "output_type": "display_data"
    }
   ],
   "source": [
    "# Visualizar os clusters iniciais \n",
    "sns.countplot(x='initial_cluster', data=previous_years_data)\n",
    "plt.show()\n",
    "sns.barplot(data = previous_years_data, x='initial_cluster',y='soma')\n",
    "plt.show()"
   ]
  },
  {
   "cell_type": "code",
   "execution_count": 13,
   "id": "1c4dabe8",
   "metadata": {
    "scrolled": true
   },
   "outputs": [
    {
     "data": {
      "image/png": "[encoded data removed]",
      "text/plain": [
       "<Figure size 432x288 with 1 Axes>"
      ]
     },
     "metadata": {
      "needs_background": "light"
     },
     "output_type": "display_data"
    },
    {
     "data": {
      "image/png": "[encoded data removed]",
      "text/plain": [
       "<Figure size 432x288 with 1 Axes>"
      ]
     },
     "metadata": {
      "needs_background": "light"
     },
     "output_type": "display_data"
    }
   ],
   "source": [
    "# Visualizar os clusters iniciais \n",
    "sns.countplot(x='initial_cluster', data=present_year_data)\n",
    "plt.show()\n",
    "sns.barplot(data = present_year_data, x='initial_cluster',y='soma')\n",
    "plt.show()"
   ]
  },
  {
   "cell_type": "code",
   "execution_count": 14,
   "id": "4e882a34",
   "metadata": {
    "scrolled": true
   },
   "outputs": [
    {
     "data": {
      "text/html": [
       "<div>\n",
       "<style scoped>\n",
       "    .dataframe tbody tr th:only-of-type {\n",
       "        vertical-align: middle;\n",
       "    }\n",
       "\n",
       "    .dataframe tbody tr th {\n",
       "        vertical-align: top;\n",
       "    }\n",
       "\n",
       "    .dataframe thead th {\n",
       "        text-align: right;\n",
       "    }\n",
       "</style>\n",
       "<table border=\"1\" class=\"dataframe\">\n",
       "  <thead>\n",
       "    <tr style=\"text-align: right;\">\n",
       "      <th></th>\n",
       "      <th>sum</th>\n",
       "      <th>count</th>\n",
       "      <th>raz</th>\n",
       "    </tr>\n",
       "    <tr>\n",
       "      <th>initial_cluster</th>\n",
       "      <th></th>\n",
       "      <th></th>\n",
       "      <th></th>\n",
       "    </tr>\n",
       "  </thead>\n",
       "  <tbody>\n",
       "    <tr>\n",
       "      <th>3</th>\n",
       "      <td>2.200032e+11</td>\n",
       "      <td>46</td>\n",
       "      <td>4.782679e+09</td>\n",
       "    </tr>\n",
       "    <tr>\n",
       "      <th>1</th>\n",
       "      <td>2.081809e+13</td>\n",
       "      <td>9468</td>\n",
       "      <td>2.198784e+09</td>\n",
       "    </tr>\n",
       "    <tr>\n",
       "      <th>2</th>\n",
       "      <td>1.878872e+12</td>\n",
       "      <td>1844</td>\n",
       "      <td>1.018911e+09</td>\n",
       "    </tr>\n",
       "    <tr>\n",
       "      <th>0</th>\n",
       "      <td>2.947866e+12</td>\n",
       "      <td>48642</td>\n",
       "      <td>6.060331e+07</td>\n",
       "    </tr>\n",
       "  </tbody>\n",
       "</table>\n",
       "</div>"
      ],
      "text/plain": [
       "                          sum  count           raz\n",
       "initial_cluster                                   \n",
       "3                2.200032e+11     46  4.782679e+09\n",
       "1                2.081809e+13   9468  2.198784e+09\n",
       "2                1.878872e+12   1844  1.018911e+09\n",
       "0                2.947866e+12  48642  6.060331e+07"
      ]
     },
     "execution_count": 14,
     "metadata": {},
     "output_type": "execute_result"
    }
   ],
   "source": [
    "gpby= previous_years_data.groupby('initial_cluster')['soma'].agg(['sum','count'])\n",
    "gpby['raz'] = gpby[gpby.columns[0]]/ gpby[gpby.columns[1]]\n",
    "gpby.sort_values(by=\"raz\", ascending = False)"
   ]
  },
  {
   "cell_type": "code",
   "execution_count": 15,
   "id": "1fd620fa",
   "metadata": {},
   "outputs": [],
   "source": [
    "def rotulo_cluster(df, col_clusters):\n",
    "    df['cluster'] = df[col_clusters].replace({0:'nodef_notsent',\n",
    "                                            1:'def_sent',\n",
    "                                            2: 'no_defsent',\n",
    "                                            3:'def_notsent'})\n",
    "\n",
    "rotulo_cluster(previous_years_data,'initial_cluster')   \n",
    "rotulo_cluster(present_year_data,'initial_cluster')    "
   ]
  },
  {
   "cell_type": "code",
   "execution_count": 16,
   "id": "8add1982",
   "metadata": {
    "scrolled": true
   },
   "outputs": [
    {
     "data": {
      "text/plain": [
       "cluster\n",
       "def_notsent      2.200032e+11\n",
       "def_sent         2.081809e+13\n",
       "no_defsent       1.878872e+12\n",
       "nodef_notsent    2.947866e+12\n",
       "Name: soma, dtype: float64"
      ]
     },
     "execution_count": 16,
     "metadata": {},
     "output_type": "execute_result"
    }
   ],
   "source": [
    "custo_prev_year=previous_years_data.groupby('cluster')['soma'].sum()\n",
    "custo_prev_year"
   ]
  },
  {
   "cell_type": "code",
   "execution_count": 17,
   "id": "4187213a",
   "metadata": {},
   "outputs": [
    {
     "data": {
      "text/plain": [
       "cluster\n",
       "def_notsent      5.721270e+10\n",
       "def_sent         5.571118e+12\n",
       "no_defsent       5.540062e+11\n",
       "nodef_notsent    7.943644e+11\n",
       "Name: soma, dtype: float64"
      ]
     },
     "execution_count": 17,
     "metadata": {},
     "output_type": "execute_result"
    }
   ],
   "source": [
    "custo_pres_year=present_year_data.groupby('cluster')['soma'].sum()\n",
    "custo_pres_year"
   ]
  },
  {
   "cell_type": "code",
   "execution_count": 18,
   "id": "54c22c7a",
   "metadata": {},
   "outputs": [],
   "source": [
    "# Modelo preditivo dos clusters para tomada de ação"
   ]
  },
  {
   "cell_type": "code",
   "execution_count": 19,
   "id": "f3bbfaec",
   "metadata": {},
   "outputs": [],
   "source": [
    "# from sklearn.model_selection import train_test_split\n",
    "\n",
    "# X = previous_years_data.drop('cluster', axis =1)\n",
    "# y = previous_years_data['cluster']\n",
    "\n",
    "# X1 = present_year_data.drop('cluster', axis =1)\n",
    "# y1 = present_year_data['cluster']\n",
    "\n",
    "# # Divida os dados em conjunto de treino e teste\n",
    "# X_train, X_test, y_train, y_test = train_test_split(X, y, test_size=0.3, random_state=42)"
   ]
  },
  {
   "cell_type": "code",
   "execution_count": 20,
   "id": "a274f607",
   "metadata": {},
   "outputs": [],
   "source": [
    "X_train= previous_years_data.drop(['cluster','initial_cluster','soma'], axis =1)\n",
    "X_test= present_year_data.drop(['cluster', 'initial_cluster', 'soma'], axis =1)\n",
    "y_train= previous_years_data['cluster']\n",
    "y_test=  present_year_data['cluster']"
   ]
  },
  {
   "cell_type": "markdown",
   "id": "cda887ea",
   "metadata": {},
   "source": [
    "--------------------------"
   ]
  },
  {
   "cell_type": "code",
   "execution_count": 21,
   "id": "ca82151a",
   "metadata": {},
   "outputs": [
    {
     "name": "stdout",
     "output_type": "stream",
     "text": [
      "Classification Report Adjusted Threshold:\n",
      "               precision    recall  f1-score   support\n",
      "\n",
      "  def_notsent       1.00      0.57      0.73        14\n",
      "     def_sent       1.00      1.00      1.00      2533\n",
      "   no_defsent       0.95      0.96      0.95       538\n",
      "nodef_notsent       1.00      1.00      1.00     12915\n",
      "\n",
      "     accuracy                           1.00     16000\n",
      "    macro avg       0.99      0.88      0.92     16000\n",
      " weighted avg       1.00      1.00      1.00     16000\n",
      "\n"
     ]
    }
   ],
   "source": [
    "\n",
    "from sklearn.ensemble import RandomForestClassifier\n",
    "from sklearn.metrics import confusion_matrix, classification_report\n",
    "\n",
    "\n",
    "# Treine o modelo Random Forest\n",
    "model = RandomForestClassifier(random_state=42)\n",
    "model.fit(X_train, y_train)\n",
    "\n",
    "# Faça as previsões no conjunto de teste\n",
    "y_pred = model.predict(X_test)\n",
    "\n",
    "# Faça as previsões com probabilidade no conjunto de teste\n",
    "y_proba = model.predict_proba(X_test)\n",
    "\n",
    "\n",
    "# Avaliar o desempenho com o novo threshold\n",
    "print(\"Classification Report Adjusted Threshold:\")\n",
    "print(classification_report(y_test, y_pred))"
   ]
  },
  {
   "cell_type": "code",
   "execution_count": 23,
   "id": "192e622d",
   "metadata": {
    "scrolled": true
   },
   "outputs": [
    {
     "name": "stdout",
     "output_type": "stream",
     "text": [
      "Classification Report Adjusted Threshold:\n",
      "               precision    recall  f1-score   support\n",
      "\n",
      "  def_notsent       1.00      0.71      0.83        14\n",
      "     def_sent       1.00      1.00      1.00      2533\n",
      "   no_defsent       0.88      0.99      0.94       538\n",
      "nodef_notsent       1.00      0.99      1.00     12915\n",
      "\n",
      "     accuracy                           1.00     16000\n",
      "    macro avg       0.97      0.93      0.94     16000\n",
      " weighted avg       1.00      1.00      1.00     16000\n",
      "\n"
     ]
    }
   ],
   "source": [
    "# Defina o novo threshold para a classe 'def_notsent'\n",
    "threshold = 0.2  # testar valores para otimização de f1-score\n",
    "\n",
    "y_pred_adjusted = np.where(y_proba[:, 0] > threshold, 'def_notsent', \n",
    "                           np.where(y_proba[:, 1] > threshold, 'def_sent', \n",
    "                           np.where(y_proba[:, 2] > threshold, 'no_defsent', 'nodef_notsent')))\n",
    "\n",
    "# Avaliar o desempenho com o novo threshold\n",
    "print(\"Classification Report Adjusted Threshold:\")\n",
    "print(classification_report(y_test, y_pred_adjusted))\n"
   ]
  },
  {
   "cell_type": "code",
   "execution_count": 24,
   "id": "8ec2af32",
   "metadata": {},
   "outputs": [],
   "source": [
    "## Atribuindo valores ao dataset novamente\n",
    "present_year_data.drop('initial_cluster', axis = 1, inplace=True)\n",
    "present_year_data['cluster_modelo']=y_pred_adjusted\n"
   ]
  },
  {
   "cell_type": "code",
   "execution_count": 25,
   "id": "9fd59319",
   "metadata": {
    "scrolled": true
   },
   "outputs": [
    {
     "data": {
      "text/html": [
       "<div>\n",
       "<style scoped>\n",
       "    .dataframe tbody tr th:only-of-type {\n",
       "        vertical-align: middle;\n",
       "    }\n",
       "\n",
       "    .dataframe tbody tr th {\n",
       "        vertical-align: top;\n",
       "    }\n",
       "\n",
       "    .dataframe thead th {\n",
       "        text-align: right;\n",
       "    }\n",
       "</style>\n",
       "<table border=\"1\" class=\"dataframe\">\n",
       "  <thead>\n",
       "    <tr style=\"text-align: right;\">\n",
       "      <th></th>\n",
       "      <th>0</th>\n",
       "    </tr>\n",
       "    <tr>\n",
       "      <th>cluster</th>\n",
       "      <th></th>\n",
       "    </tr>\n",
       "  </thead>\n",
       "  <tbody>\n",
       "    <tr>\n",
       "      <th>nodef_notsent</th>\n",
       "      <td>12915</td>\n",
       "    </tr>\n",
       "    <tr>\n",
       "      <th>def_sent</th>\n",
       "      <td>2533</td>\n",
       "    </tr>\n",
       "    <tr>\n",
       "      <th>no_defsent</th>\n",
       "      <td>538</td>\n",
       "    </tr>\n",
       "    <tr>\n",
       "      <th>def_notsent</th>\n",
       "      <td>14</td>\n",
       "    </tr>\n",
       "  </tbody>\n",
       "</table>\n",
       "</div>"
      ],
      "text/plain": [
       "                   0\n",
       "cluster             \n",
       "nodef_notsent  12915\n",
       "def_sent        2533\n",
       "no_defsent       538\n",
       "def_notsent       14"
      ]
     },
     "execution_count": 25,
     "metadata": {},
     "output_type": "execute_result"
    }
   ],
   "source": [
    "present_year_data[['cluster']].value_counts().to_frame()"
   ]
  },
  {
   "cell_type": "code",
   "execution_count": 26,
   "id": "5c08bf2f",
   "metadata": {},
   "outputs": [
    {
     "data": {
      "text/html": [
       "<div>\n",
       "<style scoped>\n",
       "    .dataframe tbody tr th:only-of-type {\n",
       "        vertical-align: middle;\n",
       "    }\n",
       "\n",
       "    .dataframe tbody tr th {\n",
       "        vertical-align: top;\n",
       "    }\n",
       "\n",
       "    .dataframe thead th {\n",
       "        text-align: right;\n",
       "    }\n",
       "</style>\n",
       "<table border=\"1\" class=\"dataframe\">\n",
       "  <thead>\n",
       "    <tr style=\"text-align: right;\">\n",
       "      <th></th>\n",
       "      <th>0</th>\n",
       "    </tr>\n",
       "    <tr>\n",
       "      <th>cluster_modelo</th>\n",
       "      <th></th>\n",
       "    </tr>\n",
       "  </thead>\n",
       "  <tbody>\n",
       "    <tr>\n",
       "      <th>nodef_notsent</th>\n",
       "      <td>12851</td>\n",
       "    </tr>\n",
       "    <tr>\n",
       "      <th>def_sent</th>\n",
       "      <td>2535</td>\n",
       "    </tr>\n",
       "    <tr>\n",
       "      <th>no_defsent</th>\n",
       "      <td>604</td>\n",
       "    </tr>\n",
       "    <tr>\n",
       "      <th>def_notsent</th>\n",
       "      <td>10</td>\n",
       "    </tr>\n",
       "  </tbody>\n",
       "</table>\n",
       "</div>"
      ],
      "text/plain": [
       "                    0\n",
       "cluster_modelo       \n",
       "nodef_notsent   12851\n",
       "def_sent         2535\n",
       "no_defsent        604\n",
       "def_notsent        10"
      ]
     },
     "execution_count": 26,
     "metadata": {},
     "output_type": "execute_result"
    }
   ],
   "source": [
    "present_year_data[['cluster_modelo']].value_counts().to_frame()"
   ]
  },
  {
   "cell_type": "code",
   "execution_count": 27,
   "id": "782dd37b",
   "metadata": {
    "scrolled": true
   },
   "outputs": [
    {
     "name": "stdout",
     "output_type": "stream",
     "text": [
      "Costs were cutted in 5.0% with this model\n"
     ]
    }
   ],
   "source": [
    "# Saved money on no_defsent and def_notsent \n",
    "\n",
    "initialcluster_saving = 538*10 + 14+500\n",
    "rf_saving = 567*10 + 13+500\n",
    "\n",
    "print(f\"Costs were cutted in {round(((rf_saving/initialcluster_saving)-1)*100,0)}% with this model\")"
   ]
  },
  {
   "cell_type": "markdown",
   "id": "49c57789",
   "metadata": {},
   "source": [
    "----------------------------"
   ]
  },
  {
   "cell_type": "code",
   "execution_count": 28,
   "id": "0aca8623",
   "metadata": {},
   "outputs": [
    {
     "name": "stdout",
     "output_type": "stream",
     "text": [
      "Feature Importances:\n",
      "   feature  importance\n",
      "41  ac_000    0.454980\n",
      "83  du_000    0.065316\n",
      "51  cm_000    0.036842\n",
      "28   ec_00    0.030772\n",
      "30  dv_000    0.029246\n",
      "..     ...         ...\n",
      "71  cb_000    0.000935\n",
      "69  cj_000    0.000453\n",
      "21  ag_002    0.000174\n",
      "34   class    0.000020\n",
      "36  cd_000    0.000000\n",
      "\n",
      "[85 rows x 2 columns]\n"
     ]
    },
    {
     "data": {
      "text/plain": [
       "Text(0, 0.5, 'Feature')"
      ]
     },
     "execution_count": 28,
     "metadata": {},
     "output_type": "execute_result"
    },
    {
     "data": {
      "image/png": "[encoded data removed]",
      "text/plain": [
       "<Figure size 864x1440 with 1 Axes>"
      ]
     },
     "metadata": {
      "needs_background": "light"
     },
     "output_type": "display_data"
    }
   ],
   "source": [
    "# Extraia as importâncias dos recursos\n",
    "importances = model.feature_importances_\n",
    "\n",
    "# Crie um DataFrame para exibir as importâncias\n",
    "feature_names = X_train.columns\n",
    "feature_importances = pd.DataFrame({'feature': feature_names, 'importance': importances})\n",
    "feature_importances = feature_importances.sort_values(by='importance', ascending=False)\n",
    "\n",
    "print(\"Feature Importances:\")\n",
    "print(feature_importances)\n",
    "\n",
    "# Plotar as importâncias dos recursos\n",
    "plt.figure(figsize=(12, 20))\n",
    "plt.title(\"Feature Importances\")\n",
    "plt.barh(feature_importances['feature'], feature_importances['importance'], color='b', align='center')\n",
    "plt.gca().invert_yaxis()\n",
    "plt.xlabel('Importance')\n",
    "plt.ylabel('Feature')"
   ]
  }
 ],
 "metadata": {
  "kernelspec": {
   "display_name": "Python 3 (ipykernel)",
   "language": "python",
   "name": "python3"
  },
  "language_info": {
   "codemirror_mode": {
    "name": "ipython",
    "version": 3
   },
   "file_extension": ".py",
   "mimetype": "text/x-python",
   "name": "python",
   "nbconvert_exporter": "python",
   "pygments_lexer": "ipython3",
   "version": "3.9.12"
  }
 },
 "nbformat": 4,
 "nbformat_minor": 5
}
